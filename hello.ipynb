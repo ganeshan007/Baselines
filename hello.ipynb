{
 "metadata": {
  "language_info": {
   "codemirror_mode": {
    "name": "ipython",
    "version": 3
   },
   "file_extension": ".py",
   "mimetype": "text/x-python",
   "name": "python",
   "nbconvert_exporter": "python",
   "pygments_lexer": "ipython3",
   "version": "3.7.4-final"
  },
  "orig_nbformat": 2,
  "kernelspec": {
   "name": "python3",
   "display_name": "Python 3",
   "language": "python"
  }
 },
 "nbformat": 4,
 "nbformat_minor": 2,
 "cells": [
  {
   "cell_type": "code",
   "execution_count": 10,
   "metadata": {
    "tags": []
   },
   "outputs": [],
   "source": [
    "import torch\n",
    "import pandas as pd\n",
    "import json\n",
    "final=[]\n",
    "with open('probs.txt','r') as f:\n",
    "    lines=f.readlines()\n",
    "    for line in lines:\n",
    "        h=json.loads(line)\n",
    "        ten=torch.tensor(h)\n",
    "        s=torch.argmax(ten).cpu().numpy()\n",
    "        final.append(s)\n",
    "d={'labels':final}\n",
    "df=pd.DataFrame(d)\n",
    "df.to_csv('probs.csv')\n"
   ]
  }
 ]
}