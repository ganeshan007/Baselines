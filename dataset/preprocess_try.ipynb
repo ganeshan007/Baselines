{
 "metadata": {
  "language_info": {
   "codemirror_mode": {
    "name": "ipython",
    "version": 3
   },
   "file_extension": ".py",
   "mimetype": "text/x-python",
   "name": "python",
   "nbconvert_exporter": "python",
   "pygments_lexer": "ipython3",
   "version": "3.7.4-final"
  },
  "orig_nbformat": 2,
  "kernelspec": {
   "name": "python3",
   "display_name": "Python 3",
   "language": "python"
  }
 },
 "nbformat": 4,
 "nbformat_minor": 2,
 "cells": [
  {
   "cell_type": "code",
   "execution_count": 4,
   "metadata": {},
   "outputs": [
    {
     "output_type": "execute_result",
     "data": {
      "text/plain": [
       "0      gt\n",
       "1      op\n",
       "2      gt\n",
       "3      op\n",
       "4      yq\n",
       "       ..\n",
       "409    op\n",
       "410    yq\n",
       "411    id\n",
       "412    gt\n",
       "413    gt\n",
       "Name: doc_label, Length: 414, dtype: object"
      ]
     },
     "metadata": {},
     "execution_count": 4
    }
   ],
   "source": [
    "import pandas as pd\n",
    "df=pd.read_csv('C:/Users/Ganeshan/Desktop/NeuralNLP-NeuralClassifier-master/dataset/a2g_valid.csv')\n",
    "df['doc_label'].isnull().values.any()\n",
    "df['doc_label'].fillna('gc')"
   ]
  }
 ]
}