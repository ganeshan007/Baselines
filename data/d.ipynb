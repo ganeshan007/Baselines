{
 "cells": [
  {
   "cell_type": "code",
   "execution_count": 35,
   "metadata": {
    "tags": []
   },
   "outputs": [
    {
     "name": "stdout",
     "output_type": "stream",
     "text": [
      "1\n"
     ]
    }
   ],
   "source": [
    "with open('swda_val_try_1.json','r') as f:\n",
    "    lines=f.readlines()\n",
    "    # print(lines)\n",
    "print(len(lines))"
   ]
  },
  {
   "cell_type": "code",
   "execution_count": 32,
   "metadata": {
    "tags": [
     "outputPrepend"
    ]
   },
   "outputs": [
    {
     "name": "stdout",
     "output_type": "stream",
     "text": [
      "], \"doc_token\": [\"Yields\", \"climbed\", \"weeks\", \"Saudi\", \"Arabian\", \"Monetary\", \"Agency\", \"offering\", \"treasury\", \"bills\", \"worth\", \"three\", \"billion\", \"riyals\", \"banker\", \"said\", \"Monday\", \"The\", \"yield\", \"day\", \"bills\", \"rose\", \"percent\", \"week\", \"ago\", \"rate\", \"day\", \"paper\", \"climbed\", \"percent\", \"The\", \"yield\", \"day\", \"bills\", \"rose\", \"percent\", \"Prices\", \"respectively\", \"Onemonth\", \"interbank\", \"deposit\", \"rates\", \"quoted\", \"/\", \"/\", \"percent\", \"three\", \"months\", \"/\", \"/\", \"percent\", \"six\", \"months\", \"/\", \"/\", \"percent\"], \"doc_keyword\": [], \"doc_topic\": []}\\n', '{\"doc_label\": [\"C13\", \"CCAT\", \"E211\", \"E21\", \"ECAT\"], \"doc_token\": [\"Sons\", \"Gwalia\", \"Ltd\", \"managing\", \"director\", \"Peter\", \"Lalor\", \"said\", \"applauded\", \"mining\", \"industrys\", \"retention\", \"Australias\", \"diesel\", \"fuel\", \"rebate\", \"said\", \"battle\", \"Federal\", \"government\", \"over\", \"We\", \"fought\", \"well\", \"battle\", \"over\", \"Lalor\", \"told\", \"Gold\", \"Coast\", \"gold\", \"conference\", \"weekend\", \"The\", \"rebate\", \"remain\", \"Federal\", \"Treasury\", \"happy\", \"figures\", \"Lalor\", \"said\", \"The\", \"Federal\", \"government\", \"announced\", \"last\", \"week\", \"budget\", \"papers\", \"diesel\", \"fuel\", \"rebate\", \"granted\", \"mining\", \"offroad\", \"industries\", \"would\", \"retained\", \"The\", \"rebate\", \"returns\", \"offroad\", \"diesel\", \"users\", \"farmers\", \"miners\", \"longstanding\", \"tax\", \"diesel\", \"introduced\", \"measure\", \"fund\", \"roads\", \"Answering\", \"questions\", \"conference\", \"presentation\", \"Lalor\", \"said\", \"mining\", \"industry\", \"task\", \"force\", \"member\", \"would\", \"meet\", \"Federal\", \"government\", \"week\", \"it\", \"the\", \"rebate\", \"still\", \"matter\", \"debate\", \"Lalor\", \"also\", \"warned\", \"gold\", \"mining\", \"industry\", \"suffering\", \"lack\", \"skilled\", \"workers\", \"following\", \"shift\", \"mining\", \"companies\", \"underground\", \"exploration\", \"Sons\", \"Gwalia\", \"seeking\", \"mop\", \"control\", \"Marvel\", \"Loch\", \"Leonora\", \"Laverton\", \"prospects\", \"Western\", \"Australia\", \"saw\", \"strategy\", \"uncompromising\", \"Lalor\", \"said\", \"We\", \"want\", \"whole\", \"belt\", \"said\", \"A\", \"substantial\", \"ground\", \"position\", \"strategic\", \"gold\", \"belts\", \"critical\", \"estimation\", \"Lalor\", \"said\", \"Consolidation\", \"major\", \"mineralised\", \"Archean\", \"greenstone\", \"belt\", \"state\", \"would\", \"combine\", \"resources\", \"six\", \"mines\", \"three\", \"processing\", \"areas\", \"annual\", \"production\", \"ounces\", \"Lalor\", \"said\", \"It\", \"would\", \"also\", \"consolidate\", \"available\", \"expertise\", \"said\", \"Sons\", \"Gwalia\", \"currently\", \"bidding\", \"A\", \"share\", \"per\", \"cent\", \"Orion\", \"Resources\", \"NL\", \"already\", \"own\", \"Sons\", \"Gwalia\", \"also\", \"took\", \"control\", \"Orions\", \"Yilgarn\", \"Star\", \"gold\", \"prospect\", \"partner\", \"Gasgoyne\", \"Gold\", \"Mines\", \"NL\", \"earlier\", \"year\", \"Sydney\", \"newsroom\"], \"doc_keyword\": [], \"doc_topic\": []}\\n', '{\"doc_label\": [\"C22\", \"CCAT\"], \"doc_token\": [\"China\", \"Southern\", \"Airlines\", \"said\", \"Tuesday\", \"start\", \"twiceweekly\", \"service\", \"Sharjah\", \"United\", \"Arab\", \"Emirates\", \"next\", \"month\", \"It\", \"said\", \"BeijingUrumqiSharjah\", \"flights\", \"leave\", \"Beijing\", \"Wednesdays\", \"Saturdays\", \"The\", \"flights\", \"return\", \"China\", \"Thursdays\", \"Sundays\", \"The\", \"service\", \"Boeing\", \"aircraft\", \"begin\", \"September\", \"Dubai\", \"newsroom\"], \"doc_keyword\": [], \"doc_topic\": []}\\n', '{\"doc_label\": [\"GCAT\", \"GSPO\"], \"doc_token\": [\"Results\", \"Major\", \"League\", \"Baseball\", \"games\", \"played\", \"Sunday\", \"home\", \"team\", \"CAPS\", \"American\", \"League\", \"BOSTON\", \"Seattle\", \"CLEVELAND\", \"Milwaukee\", \"California\", \"BALTIMORE\", \"Oakland\", \"NEW\", \"YORK\", \"CHICAGO\", \"Toronto\", \"Texas\", \"MINNESOTA\", \"Detroit\", \"KANSAS\", \"CITY\"], \"doc_keyword\": [], \"doc_topic\": []}\\n', '{\"doc_label\": [\"M141\", \"M14\", \"MCAT\"], \"doc_token\": [\"Receipts\", \"Friday\", \"Week\", \"Ago\", \"Year\", \"Ago\", \"Saturday\", \"Trend\", \"Steady\", \"higher\", \"USDA\", \"Lean\", \"Value\", \"Summary\", \"lbs\", \"Carcasses\", \"Percent\", \"th\", \"Rib\", \"Last\", \"Rib\", \"Carcass\", \"Cwt\", \"Lean\", \"Backfat\", \"Backfat\", \"Price\", \"Range\"], \"doc_keyword\": [], \"doc_topic\": []}\\n', '{\"doc_label\": [\"C31\", \"CCAT\"], \"doc_token\": [\"Thai\", \"banks\", \"seen\", \"cutting\", \"high\", \"lending\", \"rates\", \"basis\", \"points\", \"years\", \"end\", \"boost\", \"sluggish\", \"lending\", \"activity\", \"bankers\", \"analysts\", \"said\", \"Tuesday\", \"Lending\", \"commercial\", \"banks\", \"slow\", \"first\", \"half\", \"much\", \"lower\", \"targeted\", \"This\", \"partly\", \"prompt\", \"banks\", \"cut\", \"interest\", \"rates\", \"basis\", \"points\", \"rest\", \"year\", \"Arporn\", \"Chewakrengkai\", \"chief\", \"economist\", \"Deutsche\", \"Morgan\", \"Grenfell\", \"told\", \"Reuters\", \"Domestic\", \"lending\", \"rates\", \"Thai\", \"banks\", \"range\", \"percent\", \"among\", \"highest\", \"Southeast\", \"Asia\", \"According\", \"Bank\", \"Thailand\", \"BOT\", \"data\", \"total\", \"credit\", \"extension\", \"first\", \"half\", \"year\", \"million\", \"baht\", \"US\", \"million\", \"lower\", \"estimate\", \"billion\", \"The\", \"central\", \"bank\", \"also\", \"said\", \"expects\", \"growth\", \"domestic\", \"lending\", \"whole\", \"year\", \"percent\", \"earlier\", \"target\", \"percent\", \"Analysts\", \"attributed\", \"slowdown\", \"cooling\", \"Thailands\", \"exports\", \"economy\", \"The\", \"BOT\", \"forecast\", \"last\", \"month\", \"Thai\", \"exports\", \"gross\", \"domestic\", \"product\", \"would\", \"grow\", \"percent\", \"respectively\", \"previous\", \"estimates\", \"percent\", \"Charl\", \"Kengchon\", \"head\", \"money\", \"banking\", \"Thai\", \"Farmers\", \"Research\", \"Co\", \"Ltd\", \"also\", \"expects\", \"bank\", \"lending\", \"rates\", \"drop\", \"basis\", \"points\", \"But\", \"I\", \"think\", \"lending\", \"rates\", \"decline\", \"percent\", \"deposit\", \"rate\", \"still\", \"percent\", \"Banks\", \"want\", \"maintain\", \"spread\", \"percentage\", \"points\", \"lending\", \"deposit\", \"rates\", \"said\", \"Analysts\", \"said\", \"key\", \"factor\", \"could\", \"prevent\", \"reductions\", \"local\", \"lending\", \"rates\", \"heavy\", \"outflow\", \"foreign\", \"funds\", \"would\", \"tighten\", \"liquidity\", \"If\", \"major\", \"occurrence\", \"stimulate\", \"heavy\", \"outflow\", \"foreign\", \"funds\", \"remaining\", \"four\", \"months\", \"of\", \"lending\", \"rates\", \"room\", \"fall\", \"further\", \"said\", \"Satian\", \"Tantanasarit\", \"vicepresident\", \"Thai\", \"Danu\", \"Bank\", \"Singaporebased\", \"Paribas\", \"Capital\", \"Market\", \"said\", \"report\", \"Thailand\", \"expected\", \"rates\", \"ease\", \"basis\", \"points\", \"yearend\", \"bringing\", \"minimum\", \"loan\", \"rate\", \"around\", \"percent\", \"We\", \"expect\", \"downtrend\", \"interest\", \"rates\", \"continue\", \"second\", \"half\", \"Paribas\", \"said\", \"Foreigners\", \"parked\", \"large\", \"sums\", \"money\", \"Thailand\", \"cash\", \"high\", \"interest\", \"rates\", \"buying\", \"baht\", \"placing\", \"money\", \"deposit\", \"accounts\", \"and/or\", \"local\", \"bills\", \"exchange\", \"In\", \"recent\", \"days\", \"foreign\", \"outflows\", \"quite\", \"heavy\", \"foreigners\", \"remain\", \"worried\", \"domestic\", \"political\", \"economic\", \"situation\", \"stock\", \"market\", \"sluggish\", \"analysts\", \"said\", \"They\", \"gave\", \"details\", \"Prime\", \"Minister\", \"Banharn\", \"Silpaarcha\", \"faces\", \"noconfidence\", \"debate\", \"tentatively\", \"set\", \"September\", \"His\", \"sixparty\", \"coalition\", \"become\", \"bogged\", \"political\", \"infighting\", \"raised\", \"concerns\", \"stability\", \"administration\", \"political\", \"analysts\", \"said\", \"US\", \"=\", \"baht\"], \"doc_keyword\": [], \"doc_topic\": []}\\n', '{\"doc_label\": [\"M11\", \"MCAT\"], \"doc_token\": [\"The\", \"Tunis\", \"Stock\", \"Exchange\", \"Tuesday\", \"closed\", \"percent\", \"higher\", \"trade\", \"bourse\", \"sources\", \"said\", \"The\", \"markets\", \"share\", \"index\", \"closed\", \"Monday\", \"Trade\", \"volume\", \"million\", \"dinars\", \"dinars\", \"STB\", \"STB\", \"bank\", \"percent\", \"dinars\", \"Banque\", \"du\", \"Sud\", \"percent\", \"dinars\", \"BTEI\", \"bank\", \"percent\", \"dinars\", \"Banque\", \"de\", \"Tunisie\", \"percent\", \"dinars\", \"=\", \"dinar\"], \"doc_keyword\": [], \"doc_topic\": []}\\n', '{\"doc_label\": [\"M11\", \"MCAT\"], \"doc_token\": [\"GMT\", \"Shares\", \"closed\", \"calm\", \"Portugal\", \"Telecom\", \"Banco\", \"de\", \"Fomento\", \"&\", \"Exterior\", \"seeing\", \"much\", \"activity\", \"Business\", \"likely\", \"remain\", \"thin\", \"Monday\", \"The\", \"US\", \"market\", \"close\", \"accentuate\", \"usual\", \"lull\", \"start\", \"week\", \"PSI\", \"PSI\", \"closes\", \"percent\", \"down\", \"futures\", \"also\", \"slightly\", \"weaker\", \"Cash\", \"volume\", \"modest\", \"billion\", \"escudos\", \"Portugal\", \"Telecom\", \"far\", \"active\", \"stock\", \"shares\", \"traded\", \"reacting\", \"moves\", \"Wall\", \"Street\", \"price\", \"There\", \"news\", \"traders\", \"said\", \"Media\", \"group\", \"Lusomundo\", \"gained\", \"escudos\", \"active\", \"trade\", \"shares\", \"announcing\", \"million\", \"escudo\", \"first\", \"half\", \"profit\", \"forecasting\", \"full\", \"year\", \"profit\", \"million\", \"million\", \"loss\", \"Paula\", \"Cordeiro\", \"Lisbon\", \"bureau\"], \"doc_keyword\": [], \"doc_topic\": []}\\n', '{\"doc_label\": [\"GCAT\", \"GDEF\", \"GDIP\"], \"doc_token\": [\"Beijing\", \"accused\", \"Washington\", \"Tuesday\", \"impeding\", \"peaceful\", \"reunification\", \"China\", \"Taiwan\", \"selling\", \"advanced\", \"weapons\", \"island\", \"A\", \"decision\", \"United\", \"States\", \"sell\", \"Stinger\", \"missiles\", \"launchers\", \"weapons\", \"Taiwan\", \"a\", \"kind\", \"obstacle\", \"peaceful\", \"reunification\", \"China\", \"Taiwan\", \"Foreign\", \"Ministry\", \"spokesman\", \"Shen\", \"Guofang\", \"told\", \"news\", \"briefing\", \"China\", \"regards\", \"Taiwan\", \"rebel\", \"province\", \"threatened\", \"invade\", \"island\", \"declares\", \"independence\", \"Shen\", \"said\", \"US\", \"sale\", \"advanced\", \"weapons\", \"Taiwan\", \"supporting\", \"condoning\", \"separatist\", \"sentiment\", \"island\", \"The\", \"US\", \"argument\", \"selling\", \"defensive\", \"weapons\", \"Taiwan\", \"flawed\", \"Shen\", \"said\", \"adding\", \"Washington\", \"violating\", \"past\", \"pledges\", \"reduce\", \"weapons\", \"sales\", \"island\", \"China\", \"demanded\", \"Monday\", \"United\", \"States\", \"cancel\", \"plans\", \"sell\", \"weapons\", \"Taiwan\", \"prevent\", \"new\", \"damage\", \"SinoUS\", \"relations\"], \"doc_keyword\": [], \"doc_topic\": []}\\n', '{\"doc_label\": [\"C31\", \"CCAT\"], \"doc_token\": [\"Mattel\", \"Inc\", \"chief\", \"executive\", \"officer\", \"Jill\", \"Barad\", \"said\", \"sales\", \"toys\", \"based\", \"Walt\", \"Disney\", \"Cos\", \"Hunchback\", \"Notre\", \"Dame\", \"film\", \"would\", \"reach\", \"million\", \"falling\", \"short\", \"Poconotas\", \"toy\", \"sales\", \"Its\", \"true\", \"Pocohontas\", \"outsell\", \"Hunchback\", \"although\", \"well\", \"million\", \"Hunchback\", \"sales\", \"recently\", \"named\", \"chief\", \"executive\", \"told\", \"Reuters\", \"Mattels\", \"revenue\", \"Pocahontas\", \"million\", \"analysts\", \"said\", \"Still\", \"Mattels\", \"sales\", \"Disneyrelated\", \"toys\", \"year\", \"top\", \"total\", \"million\", \"Barad\", \"said\"], \"doc_keyword\": [], \"doc_topic\": []}\\n', '{\"doc_label\": [\"GCAT\", \"GVIO\"], \"doc_token\": [\"Eleven\", \"people\", \"injured\", \"Thursday\", \"fresh\", \"clash\", \"security\", \"forces\", \"peasant\", \"protesters\", \"Colombias\", \"southern\", \"Caqueta\", \"province\", \"authorities\", \"said\", \"The\", \"latest\", \"clash\", \"injured\", \"felled\", \"gunshot\", \"wounds\", \"came\", \"amid\", \"growing\", \"controversy\", \"Bogota\", \"curbs\", \"television\", \"coverage\", \"protests\", \"rocked\", \"Caqueta\", \"two\", \"southern\", \"provinces\", \"since\", \"last\", \"month\", \"Under\", \"resolution\", \"announced\", \"Friday\", \"least\", \"four\", \"protesters\", \"killed\", \"Caqueta\", \"staterun\", \"National\", \"Television\", \"Commission\", \"banned\", \"TV\", \"reports\", \"protests\", \"based\", \"anything\", \"official\", \"sources\", \"It\", \"also\", \"barred\", \"TV\", \"news\", \"programmes\", \"showing\", \"images\", \"related\", \"protests\", \"that\", \"reflect\", \"situations\", \"extreme\", \"human\", \"suffering\", \"Among\", \"injured\", \"Thursday\", \"cameraman\", \"TV\", \"news\", \"programme\", \"colleagues\", \"said\", \"suffered\", \"multiple\", \"trauma\", \"beaten\", \"soldiers\", \"rifle\", \"butts\", \"Wilson\", \"Moreno\", \"news\", \"director\", \"said\", \"cameraman\", \"Luis\", \"Gonzalo\", \"Velez\", \"beaten\", \"soldiers\", \"refused\", \"hand\", \"camera\", \"video\", \"cassette\", \"filmed\", \"violence\", \"Witnesses\", \"said\", \"Thursdays\", \"clash\", \"occurred\", \"thousands\", \"peasants\", \"barred\", \"entering\", \"Caquetas\", \"provincial\", \"capital\", \"Florencia\", \"surged\", \"toward\", \"military\", \"barricade\", \"bridge\", \"leading\", \"city\", \"Troops\", \"opened\", \"fire\", \"tear\", \"gas\", \"live\", \"ammunition\", \"halt\", \"drive\", \"across\", \"bridge\", \"witnesses\", \"said\", \"adding\", \"gunfire\", \"appeared\", \"come\", \"military\", \"side\", \"barricade\", \"In\", \"similiar\", \"clashes\", \"recent\", \"weeks\", \"military\", \"officials\", \"insisted\", \"leftist\", \"rebels\", \"opened\", \"fire\", \"protesters\", \"sought\", \"blame\", \"bloodshed\", \"government\", \"troops\", \"A\", \"report\", \"Florencias\", \"Maria\", \"Inmaculada\", \"hospital\", \"said\", \"people\", \"injured\", \"melee\", \"taken\", \"protesters\", \"retreated\", \"bridge\", \"including\", \"yearold\", \"man\", \"shot\", \"right\", \"eye\", \"Hundreds\", \"thousands\", \"peasants\", \"staged\", \"mass\", \"protests\", \"Caqueta\", \"neighbouring\", \"Putumayo\", \"Guaviare\", \"provinces\", \"since\", \"last\", \"month\", \"governments\", \"USbacked\", \"drug\", \"crop\", \"eradication\", \"programme\", \"At\", \"least\", \"peasant\", \"growers\", \"coca\", \"leaf\", \"raw\", \"material\", \"cocaine\", \"killed\", \"protests\", \"far\", \"pressed\", \"demands\", \"government\", \"aid\", \"crop\", \"substitution\", \"eradication\", \"poverty\", \"Colombias\", \"junglecovered\", \"south\"], \"doc_keyword\": [], \"doc_topic\": []}\\n', '{\"doc_label\": [\"GCAT\", \"GCRIM\", \"GDIP\"], \"doc_token\": [\"Philippine\", \"President\", \"Fidel\", \"Ramos\", \"asked\", \"Jordans\", \"King\", \"Hussein\", \"Friday\", \"investigate\", \"death\", \"Filipina\", \"maid\", \"Amman\", \"last\", \"July\", \"Ramos\", \"said\", \"death\", \"Eliza\", \"Salem\", \"caused\", \"profound\", \"grief\", \"among\", \"family\", \"friends\", \"The\", \"Philippine\", \"foreign\", \"office\", \"said\", \"last\", \"week\", \"would\", \"investigate\", \"Salems\", \"death\", \"parents\", \"disputed\", \"Jordanian\", \"reports\", \"fell\", \"death\", \"trying\", \"escape\", \"employers\", \"apartment\", \"On\", \"behalf\", \"bereaved\", \"family\", \"Ms\", \"Salem\", \"may\", \"I\", \"therefore\", \"request\", \"full\", \"impartial\", \"speedy\", \"investigation\", \"death\", \"conducted\", \"appropriate\", \"Jordanian\", \"authorities\", \"copy\", \"Ramos\", \"letter\", \"King\", \"Hussein\", \"said\", \"Filipinos\", \"sensitive\", \"plight\", \"overseas\", \"workers\", \"domestic\", \"servants\", \"One\", \"them\", \"Sarah\", \"Balabagan\", \"sentenced\", \"death\", \"Islamic\", \"court\", \"United\", \"Arab\", \"Emirates\", \"UAE\", \"killing\", \"Arab\", \"employer\", \"accused\", \"raping\", \"her\", \"She\", \"spared\", \"death\", \"penalty\", \"UAE\", \"President\", \"Sheikh\", \"Zaib\", \"bin\", \"Sultan\", \"alNahayan\", \"intervened\", \"She\", \"returned\", \"home\", \"heros\", \"welcome\", \"earlier\", \"month\", \"Another\", \"Filipina\", \"Flor\", \"Contemplacion\", \"hanged\", \"Singapore\", \"March\", \"last\", \"year\", \"confessing\", \"double\", \"murder\"], \"doc_keyword\": [], \"doc_topic\": []}\\n', '{\"doc_label\": [\"M131\", \"M13\", \"MCAT\"], \"doc_token\": [\"Bank\", \"Negara\", \"Malaysia\", \"announced\", \"borrow\", \"onemonth\", \"deposit\", \"GMT\", \"part\", \"open\", \"market\", \"operations\", \"Bank\", \"Negara\", \"regularly\", \"intervenes\", \"local\", \"interbank\", \"market\", \"keep\", \"check\", \"liquidity\", \"set\", \"interest\", \"rates\", \"part\", \"efforts\", \"fight\", \"inflation\", \"economy\", \"But\", \"market\", \"nearly\", \"three\", \"months\", \"despite\", \"rising\", \"liquidity\", \"pressured\", \"rates\", \"downward\", \"threatening\", \"thwart\", \"Banks\", \"tight\", \"monetary\", \"policy\", \"The\", \"central\", \"bank\", \"last\", \"borrowed\", \"onemonth\", \"deposit\", \"May\", \"percent\", \"Kuala\", \"Lumpur\", \"newsroom\"], \"doc_keyword\": [], \"doc_topic\": []}\\n', '{\"doc_label\": [\"GCAT\", \"GHEA\", \"GPOL\"], \"doc_token\": [\"Polands\", \"parliament\", \"voted\", \"Friday\", \"liberalise\", \"countrys\", \"abortion\", \"law\", \"allow\", \"women\", \"terminate\", \"pregnancies\", \"th\", \"week\", \"cannot\", \"afford\", \"raise\", \"child\", \"personal\", \"problems\", \"The\", \"leftdominated\", \"lower\", \"house\", \"voted\", \"abstentions\", \"favour\", \"amendments\", \"existing\", \"antiabortion\", \"law\", \"despite\", \"desperate\", \"campaign\", \"change\", \"Roman\", \"Catholic\", \"Church\", \"political\", \"allies\", \"I\", \"confirm\", \"Sejm\", \"lower\", \"house\", \"passed\", \"law\", \"deputy\", \"speaker\", \"Marek\", \"Borowski\", \"said\", \"The\", \"present\", \"law\", \"passed\", \"previous\", \"centreright\", \"government\", \"allows\", \"abortions\", \"pregnancy\", \"threatens\", \"womans\", \"life\", \"health\", \"results\", \"rape\", \"incest\", \"foetus\", \"irreparably\", \"damaged\", \"The\", \"vote\", \"divided\", \"members\", \"ruling\", \"leftist\", \"coalition\", \"larger\", \"excommunist\", \"Democratic\", \"Left\", \"Alliance\", \"SLD\", \"backing\", \"move\", \"members\", \"smaller\", \"Peasant\", \"party\", \"PSL\", \"siding\", \"proChurch\", \"rightleaning\", \"opposition\", \"parties\", \"Parliament\", \"passed\", \"similar\", \"amendments\", \"see\", \"vetoed\", \"thenpresident\", \"Lech\", \"Walesa\", \"devout\", \"Catholic\", \"Walesa\", \"lost\", \"last\", \"years\", \"elections\", \"secularminded\", \"excommunist\", \"Aleksander\", \"Kwasniewski\", \"said\", \"sign\", \"new\", \"law\", \"passed\", \"Senate\"], \"doc_keyword\": [], \"doc_topic\": []}\\n', '{\"doc_label\": [\"GCAT\", \"GCRIM\"], \"doc_token\": [\"Identity\", \"fraud\", \"rise\", \"United\", \"States\", \"criminals\", \"using\", \"stolen\", \"social\", \"security\", \"numbers\", \"drivers\", \"licenses\", \"take\", \"victims\", \"jobs\", \"mortgages\", \"government\", \"agency\", \"said\", \"Tuesday\", \"The\", \"case\", \"histories\", \"see\", \"frankly\", \"frightening\", \"said\", \"Janet\", \"Steiger\", \"member\", \"Federal\", \"Trade\", \"Commission\", \"In\", \"flash\", \"victims\", \"credit\", \"record\", \"destroyed\", \"may\", \"take\", \"years\", \"undo\", \"damage\", \"said\", \"The\", \"bureau\", \"become\", \"aware\", \"problem\", \"identity\", \"fraud\", \"receiving\", \"increasing\", \"number\", \"consumer\", \"complaints\", \"Steiger\", \"said\", \"She\", \"addressing\", \"meeting\", \"hosted\", \"FTC\", \"start\", \"working\", \"group\", \"industry\", \"government\", \"consumer\", \"respresentatives\", \"tackle\", \"problem\", \"Victims\", \"fraud\", \"lost\", \"jobs\", \"credit\", \"accounts\", \"cars\", \"repossessed\", \"lost\", \"mortgages\", \"denied\", \"college\", \"tuition\", \"loans\", \"Steiger\", \"said\", \"In\", \"cases\", \"arrested\", \"crimes\", \"committed\", \"criminal\", \"stole\", \"identity\", \"added\", \"John\", \"Smith\", \"general\", \"contractor\", \"Bakersfield\", \"Calif\", \"said\", \"took\", \"year\", \"sort\", \"mess\", \"someone\", \"grabbed\", \"identity\", \"The\", \"impostor\", \"applied\", \"credit\", \"dozens\", \"businesses\", \"put\", \"Smiths\", \"address\", \"previous\", \"address\", \"phony\", \"address\", \"current\", \"address\", \"nothing\", \"ever\", \"mailed\", \"Smith\", \"fraudulent\", \"transactions\", \"Smith\", \"said\", \"He\", \"received\", \"least\", \"merchandise\", \"services\", \"identity\", \"alone\", \"I\", \"one\", \"working\", \"Smith\", \"said\", \"The\", \"criminal\", \"obtained\", \"forged\", \"drivers\", \"licenses\", \"using\", \"addresses\", \"recently\", \"vacated\", \"houses\", \"Smith\", \"said\", \"The\", \"man\", \"went\", \"used\", \"car\", \"lot\", \"asking\", \"test\", \"drive\", \"truck\", \"asked\", \"drivers\", \"license\", \"claimed\", \"forgot\", \"social\", \"security\", \"number\", \"The\", \"dealer\", \"ran\", \"credit\", \"check\", \"several\", \"names\", \"came\", \"screen\", \"impostor\", \"pointed\", \"Smiths\", \"name\", \"saying\", \"address\", \"changed\", \"recently\", \"moved\", \"The\", \"man\", \"able\", \"get\", \"enough\", \"information\", \"including\", \"social\", \"security\", \"number\", \"to\", \"set\", \"chain\", \"events\", \"motion\", \"Smith\", \"said\", \"He\", \"noted\", \"access\", \"credit\", \"information\", \"allowed\", \"person\", \"supply\", \"social\", \"security\", \"number\", \"Solutions\", \"mooted\", \"forum\", \"included\", \"tightening\", \"access\", \"credit\", \"reports\", \"stricter\", \"standardized\", \"requirements\", \"obtaining\", \"drivers\", \"licenses\", \"shredding\", \"old\", \"licenses\", \"rather\", \"throwing\", \"away\"], \"doc_keyword\": [], \"doc_topic\": []}\\n', '{\"doc_label\": [\"E13\", \"E132\", \"ECAT\"], \"doc_token\": [\"Indias\", \"yearonyear\", \"inflation\", \"rate\", \"measured\", \"wholesale\", \"price\", \"index\", \"rose\", \"percent\", \"week\", \"ending\", \"August\", \"percent\", \"previous\", \"week\", \"Industry\", \"Ministry\", \"said\", \"WHOLESALE\", \"PRICES\", \"Aug\", \"Aug\", \"Aug\", \"Yearonyear\", \"change\", \"Index\", \"base=/\", \"Note\", \"Figures\", \"preliminary\", \"except\", \"week\", \"ended\", \"August\"], \"doc_keyword\": [], \"doc_topic\": []}\\n', '{\"doc_label\": [\"C13\", \"C181\", \"C18\", \"C33\", \"C34\", \"CCAT\"], \"doc_token\": [\"The\", \"US\", \"Justice\", \"Department\", \"said\", \"Thursday\", \"approved\", \"IngersollRand\", \"Cos\", \"acquisition\", \"Zimmerman\", \"International\", \"Corp\", \"Michiganbased\", \"manufacturer\", \"equipment\", \"used\", \"lift\", \"move\", \"heavy\", \"objects\", \"assembly\", \"lines\", \"The\", \"Justice\", \"Departments\", \"antitrust\", \"division\", \"said\", \"allowed\", \"deal\", \"IngersollRand\", \"agreed\", \"end\", \"exclusive\", \"licensing\", \"arrangement\", \"another\", \"manufacturer\", \"Knight\", \"Industries\", \"Zimmerman\", \"nations\", \"largest\", \"manufacturer\", \"equipment\", \"known\", \"air\", \"balancers\", \"Knight\", \"ranks\", \"second\", \"largest\", \"departments\", \"said\"], \"doc_keyword\": [], \"doc_topic\": []}\\n']\n"
     ]
    }
   ],
   "source": [
    "with open('rcv1_train.json','r') as f:\n",
    "    lines=f.readlines()\n",
    "    print(lines)\n",
    "# print(type(lines))\n",
    "# for line in lines:\n",
    "    # print(type(line))"
   ]
  },
  {
   "cell_type": "code",
   "execution_count": 6,
   "metadata": {},
   "outputs": [],
   "source": [
    "def convert_multi_slots_to_single_slots(slots):\n",
    "    \"\"\"\n",
    "    covert the data which text_data are saved as multi-slots, e.g()\n",
    "    \"\"\"\n",
    "    if len(slots) == 1:\n",
    "        return slots[0]\n",
    "    else:\n",
    "        return ' '.join(slots)"
   ]
  },
  {
   "cell_type": "code",
   "execution_count": 24,
   "metadata": {
    "tags": []
   },
   "outputs": [
    {
     "name": "stdout",
     "output_type": "stream",
     "text": [
      "<_csv.reader object at 0x0000018DC3DEB278>\n"
     ]
    }
   ],
   "source": [
    "import csv\n",
    "with open('C:/Users/Ganeshan/Desktop/NeuralNLP-NeuralClassifier-master/dataset/switchboard_valid1.csv','r') as f:\n",
    "    lines=csv.reader(f)\n",
    "print(lines)\n",
    "    # for items in lines:\n",
    "    #     # print(items)\n",
    "    #     t=convert_multi_slots_to_single_slots(items[1:])\n",
    "    #     print(t.split(\" \"))"
   ]
  },
  {
   "cell_type": "code",
   "execution_count": 39,
   "metadata": {},
   "outputs": [],
   "source": [
    "import pandas as pd\n",
    "df=pd.read_csv('C:/Users/Ganeshan/Desktop/NeuralNLP-NeuralClassifier-master/dataset/switchboard_train1.csv')\n",
    "df.to_json('df_swda_json_train.json',orient='records')"
   ]
  },
  {
   "cell_type": "code",
   "execution_count": 38,
   "metadata": {},
   "outputs": [],
   "source": [
    "import pandas as pd\n",
    "df=pd.read_csv('C:/Users/Ganeshan/Desktop/NeuralNLP-NeuralClassifier-master/dataset/switchboard_valid1.csv')\n",
    "df.to_json('df_swda_json.json',orient='records')"
   ]
  },
  {
   "cell_type": "code",
   "execution_count": 41,
   "metadata": {},
   "outputs": [],
   "source": [
    "import pandas as pd\n",
    "df=pd.read_csv('C:/Users/Ganeshan/Desktop/NeuralNLP-NeuralClassifier-master/dataset/switchboard_test1.csv')\n",
    "df.to_json('df_swda_json_test.json',orient='records')\n"
   ]
  },
  {
   "cell_type": "code",
   "execution_count": 7,
   "metadata": {},
   "outputs": [],
   "source": [
    "import csv\n",
    "import json\n",
    "import re\n",
    "import sys\n",
    "import pandas as pd\n",
    "\n",
    "\n",
    "def clean_str(string):\n",
    "    \"\"\"\n",
    "    Tokenization/string cleaning for all datasets except for SST.\n",
    "    Original taken from https://github.com/yoonkim/CNN_sentence/blob/master/process_data.py\n",
    "    \"\"\"\n",
    "    string = string.strip().strip('\"')\n",
    "    string = re.sub(r\"[^A-Za-z0-9(),!?\\.\\'\\`]\", \" \", string)\n",
    "    string = re.sub(r\"\\'s\", \" \\'s\", string)\n",
    "    string = re.sub(r\"\\'ve\", \" \\'ve\", string)\n",
    "    string = re.sub(r\"n\\'t\", \" n\\'t\", string)\n",
    "    string = re.sub(r\"\\'re\", \" \\'re\", string)\n",
    "    string = re.sub(r\"\\'d\", \" \\'d\", string)\n",
    "    string = re.sub(r\"\\'ll\", \" \\'ll\", string)\n",
    "    string = re.sub(r\",\", \" , \", string)\n",
    "    string = re.sub(r\"\\.\", \" \\. \", string)\n",
    "    string = re.sub(r\"\\\"\", \" , \", string)\n",
    "    string = re.sub(r\"!\", \" ! \", string)\n",
    "    string = re.sub(r\"\\(\", \" \\( \", string)\n",
    "    string = re.sub(r\"\\)\", \" \\) \", string)\n",
    "    string = re.sub(r\"\\?\", \" \\? \", string)\n",
    "    string = re.sub(r\"\\s{2,}\", \" \", string)\n",
    "    return string.strip().lower()\n",
    "\n",
    "\n",
    "def convert_multi_slots_to_single_slots(slots):\n",
    "    \"\"\"\n",
    "    covert the data which text_data are saved as multi-slots, e.g()\n",
    "    \"\"\"\n",
    "    if len(slots) == 1:\n",
    "        return slots[0]\n",
    "    else:\n",
    "        return ' '.join(slots)\n",
    "\n",
    "\n",
    "def preprocess(csv_file, json_file):\n",
    "    o=[]\n",
    "    with open(json_file, \"wt\") as fout:\n",
    "        with open(csv_file, 'r') as fin:\n",
    "            lines = csv.reader(fin)\n",
    "            for items in lines:\n",
    "                text_data = convert_multi_slots_to_single_slots(items[1:])\n",
    "                text_data = clean_str(text_data)\n",
    "                sample = dict()\n",
    "                sample['doc_label'] = [items[0]]\n",
    "                sample['doc_token'] = text_data.split(\" \")\n",
    "                sample['doc_keyword'] = []\n",
    "                sample['doc_topic'] = []\n",
    "                json_str = json.dumps(sample, ensure_ascii=False)\n",
    "                fout.write(json_str)\n",
    "\n",
    "\n",
    "def process(csv_file,json_file):\n",
    "#     df=pd.DataFrame()\n",
    "    in_df=pd.read_csv(csv_file)\n",
    "    in_df['doc_topic'].fillna(' ')\n",
    "    in_df['doc_keyword'].fillna(' ')\n",
    "    d1=in_df.to_dict(orient='records')\n",
    "    sample=dict()\n",
    "    with open(json_file,'w') as out:\n",
    "        for line in d1:\n",
    "#             text_data = convert_multi_slots_to_single_slots(str(line['doc_token']))\n",
    "            text_data = clean_str(str(line['doc_token']))\n",
    "            sample['doc_label'] = [line['doc_label']]\n",
    "            sample['doc_token'] = str(text_data)\n",
    "            sample['doc_token'] = sample['doc_token'].split(' ')\n",
    "            sample['doc_keyword'] = []\n",
    "            sample['doc_topic'] = []\n",
    "            json_str = json.dumps(sample)\n",
    "            out.write(json_str)\n",
    "            out.write('\\n')\n",
    "#     text_data = convert_multi_slots_to_single_slots(sample['doc_token'])\n",
    "#     text_data = clean_str(text_data)\n",
    "# #     sample = dict()\n",
    "#     sample['doc_label'] = [sample['doc_label']]\n",
    "#     sample['doc_token'] = text_data.split(\" \")\n",
    "#     sample['doc_keyword'] = []\n",
    "#     sample['doc_topic'] = []\n",
    "\n",
    "# #     in_df['doc_token']=[str(word) for word in line for line in df['doc_token']]\n",
    "#     text_data=convert_multi_slots_to_single_slots(in_df['doc_token'].astype(str))\n",
    "#     text_data=clean_str(text_data)\n",
    "#     in_df['doc_token']=df['doc_token'].to_list()\n",
    "#     in_df['doc_topic']=' '\n",
    "#     in_df['doc_keyword']=' '\n",
    "#     in_df.to_json('C:/Users/Ganeshan/Desktop/NeuralNLP-NeuralClassifier-master/dataset/swda_json_final.json',orient='records')\n",
    "            \n",
    "    \n",
    "\n",
    "\n",
    "\n",
    "# # if __name__ == '__main__':\n",
    "# #     train_csv = 'C:/Users/Ganeshan/Desktop/NeuralNLP-NeuralClassifier-master/dataset/switchboard_valid1.csv'\n",
    "# #     train_json = 'C:/Users/Ganeshan/Desktop/NeuralNLP-NeuralClassifier-master/dataset/swda_val_try_jhjhfd.json'\n",
    "# #     # test_csv = sys.argv[3]\n",
    "#     # test_json = sys.argv[4]\n",
    "#     preprocess(train_csv, train_json)\n",
    "#     # preprocess(test_csv, test_json)\n"
   ]
  },
  {
   "cell_type": "code",
   "execution_count": 9,
   "metadata": {},
   "outputs": [],
   "source": [
    "train_csv = 'C:/Users/Ganeshan/Desktop/NeuralNLP-NeuralClassifier-master/dataset/a2g_train.csv'\n",
    "train_json = 'C:/Users/Ganeshan/Desktop/NeuralNLP-NeuralClassifier-master/dataset/a2g_train.json'\n",
    "test_csv = 'C:/Users/Ganeshan/Desktop/NeuralNLP-NeuralClassifier-master/dataset/a2g_test.csv'\n",
    "test_json = 'C:/Users/Ganeshan/Desktop/NeuralNLP-NeuralClassifier-master/dataset/a2g_test.json'\n",
    "valid_csv= 'C:/Users/Ganeshan/Desktop/NeuralNLP-NeuralClassifier-master/dataset/a2g_valid.csv'\n",
    "valid_json= 'C:/Users/Ganeshan/Desktop/NeuralNLP-NeuralClassifier-master/dataset/a2g_valid.json'\n",
    "process(train_csv, train_json)\n",
    "process(test_csv, test_json)\n",
    "process(valid_csv, valid_json)\n"
   ]
  },
  {
   "cell_type": "code",
   "execution_count": 18,
   "metadata": {},
   "outputs": [
    {
     "name": "stderr",
     "output_type": "stream",
     "text": [
      "IOPub data rate exceeded.\n",
      "The notebook server will temporarily stop sending output\n",
      "to the client in order to avoid crashing it.\n",
      "To change this limit, set the config variable\n",
      "`--NotebookApp.iopub_data_rate_limit`.\n",
      "\n",
      "Current values:\n",
      "NotebookApp.iopub_data_rate_limit=1000000.0 (bytes/sec)\n",
      "NotebookApp.rate_limit_window=3.0 (secs)\n",
      "\n"
     ]
    }
   ],
   "source": [
    "df=pd.read_csv('C:/Users/Ganeshan/Desktop/NeuralNLP-NeuralClassifier-master/dataset/switchboard_valid1.csv')\n",
    "# for line in df['doc_token']:\n",
    "#     for word in line:\n",
    "#         word=str(word)\n",
    "d=df.to_dict(orient='records')\n",
    "# print(d)"
   ]
  },
  {
   "cell_type": "code",
   "execution_count": 13,
   "metadata": {},
   "outputs": [],
   "source": [
    "process('C:/Users/Ganeshan/Desktop/NeuralNLP-NeuralClassifier-master/dataset/switchboard_valid1.csv')"
   ]
  }
 ],
 "metadata": {
  "kernelspec": {
   "display_name": "Python 3",
   "language": "python",
   "name": "python3"
  },
  "language_info": {
   "codemirror_mode": {
    "name": "ipython",
    "version": 3
   },
   "file_extension": ".py",
   "mimetype": "text/x-python",
   "name": "python",
   "nbconvert_exporter": "python",
   "pygments_lexer": "ipython3",
   "version": "3.7.4-final"
  }
 },
 "nbformat": 4,
 "nbformat_minor": 4
}